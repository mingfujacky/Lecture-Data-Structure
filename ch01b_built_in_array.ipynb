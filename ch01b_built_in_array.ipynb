{
 "cells": [
  {
   "cell_type": "markdown",
   "metadata": {},
   "source": [
    "# What is a Array\n",
    "- Array is a data structure consisting of a collection of elements, of same memory size, each identified by an index. \n",
    "- Memory address of an element can be computed by \n",
    "  [array_start_address] + ([size] * [index])\n",
    "- Categories: Static Arrays, Sorted Arrays, Dynamic Arrays\n",
    "- Key characteristics\n",
    "  - It stores a collection of data\n",
    "  - Its elements can be accessed by index\n",
    "  - Elements don’t have to be accessed sequentially\n",
    "- Implementing arrays as a core language feature\n",
    "  - Arrays are allocated in memory as a single, uninterrupted block of memory with\n",
    "sequential locations.\n",
    "  - Arrays are restricted to storing data of the same type to quickly know the memory address of each element.\n",
    "  - [**Static Arrays**] The size of arrays (# of elements) must be decided when the array is created, and that size can’t be changed."
   ]
  },
  {
   "cell_type": "markdown",
   "metadata": {},
   "source": [
    "![bg right:40% w:500 array memory](../Lecture-Data-Structure/files/image//array_memory_address.png)"
   ]
  },
  {
   "cell_type": "markdown",
   "metadata": {},
   "source": [
    "# Python Array module"
   ]
  },
  {
   "cell_type": "markdown",
   "metadata": {},
   "source": [
    "- Python Array module is a built-in Python module to create and manage arrays of uniform data types which is defined by typecode. \n",
    "- Python Array module is more memory-efficient than Python lists when working with large amounts of numerical data with uniform types.\n",
    "- For advanced numerical computations, libraries like NumPy might be better suited.\n",
    "\n",
    "**typecode**\n",
    "\n",
    "| **Typecode** | **C Type**          | **Python Type** | **Size (in bytes)** | \n",
    "|--------------|---------------------|-----------------|---------------------|\n",
    "| `'w'`        | Py_UCS4             | Unicode         | 4                   |\n",
    "| `'i'`        | signed int          | int             | 4                   |\n",
    "| `'l'`        | signed long         | int             | 8 (or 4 in windows) |\n",
    "| `'f'`        | float               | float           | 4                   |\n",
    "| `'d'`        | double              | float           | 8                   |"
   ]
  },
  {
   "cell_type": "code",
   "execution_count": 48,
   "metadata": {},
   "outputs": [
    {
     "name": "stdout",
     "output_type": "stream",
     "text": [
      "2\n",
      "array('i', [1, 50, 3])\n"
     ]
    }
   ],
   "source": [
    "# Creates an array with the specified typecode.\n",
    "import array\n",
    "arr = array.array('i', [1, 2, 3])  # Create an integer array\n",
    "print(arr[1])\n",
    "arr[1] = 50\n",
    "print(arr)"
   ]
  },
  {
   "cell_type": "code",
   "execution_count": 41,
   "metadata": {},
   "outputs": [
    {
     "name": "stdout",
     "output_type": "stream",
     "text": [
      "array('i', [1, 2, 3, 4, 5, 6, 7])\n"
     ]
    }
   ],
   "source": [
    "# Add elements\n",
    "arr = array.array('i', [1, 2])\n",
    "arr.append(3) # Append a single element\n",
    "arr.extend([4, 5, 6]) # Append several elements\n",
    "arr.insert(6, 7) # Insert 7 at index 6\n",
    "print(arr)"
   ]
  },
  {
   "cell_type": "code",
   "execution_count": 42,
   "metadata": {},
   "outputs": [
    {
     "name": "stdout",
     "output_type": "stream",
     "text": [
      "5\n",
      "4\n",
      "array('i', [1, 2, 3])\n",
      "array('i', [1, 3])\n"
     ]
    }
   ],
   "source": [
    "# Removing elements\n",
    "arr = array.array('i', [1, 2, 3, 4, 5])\n",
    "print(arr.pop())  # Remove the last element\n",
    "print(arr.pop(3)) # Remove by index\n",
    "print(arr)\n",
    "arr.remove(2) # Remove by value\n",
    "print(arr)"
   ]
  },
  {
   "cell_type": "code",
   "execution_count": 43,
   "metadata": {},
   "outputs": [
    {
     "name": "stdout",
     "output_type": "stream",
     "text": [
      "1\n"
     ]
    }
   ],
   "source": [
    "# Searching\n",
    "arr = array.array('i', [10, 20, 30])\n",
    "print(arr.index(20)) # Find the index by an element's value"
   ]
  },
  {
   "cell_type": "code",
   "execution_count": 44,
   "metadata": {},
   "outputs": [
    {
     "name": "stdout",
     "output_type": "stream",
     "text": [
      "array('i', [3, 2, 1])\n",
      "[3, 2, 1]\n"
     ]
    }
   ],
   "source": [
    "# Transformation\n",
    "arr = array.array('i', [1, 2, 3])\n",
    "arr.reverse()\n",
    "print(arr)\n",
    "\n",
    "lst = list(arr) # cast type from array to list\n",
    "print(lst)"
   ]
  },
  {
   "cell_type": "code",
   "execution_count": 45,
   "metadata": {},
   "outputs": [
    {
     "name": "stdout",
     "output_type": "stream",
     "text": [
      "(4589639472, 3)\n",
      "12\n"
     ]
    }
   ],
   "source": [
    "arr = array.array('i', [1, 2, 3])\n",
    "print(arr.buffer_info())\n",
    "total_bytes = arr.buffer_info()[1] * arr.itemsize\n",
    "print(total_bytes)"
   ]
  },
  {
   "cell_type": "code",
   "execution_count": 46,
   "metadata": {},
   "outputs": [
    {
     "data": {
      "text/plain": [
       "array('w', 'hello☂☃')"
      ]
     },
     "execution_count": 46,
     "metadata": {},
     "output_type": "execute_result"
    }
   ],
   "source": [
    "arr = array.array('w', 'hello')\n",
    "arr.extend('\\u2602\\u2603')\n",
    "arr"
   ]
  },
  {
   "cell_type": "code",
   "execution_count": 47,
   "metadata": {},
   "outputs": [
    {
     "name": "stdout",
     "output_type": "stream",
     "text": [
      "b'\\x01\\x00\\x00\\x00\\x02\\x00\\x00\\x00\\x03\\x00\\x00\\x00'\n"
     ]
    }
   ],
   "source": [
    "arr = array.array('i', [1, 2, 3])\n",
    "print(arr.tobytes()) # elements' memory is contiguous"
   ]
  },
  {
   "cell_type": "markdown",
   "metadata": {},
   "source": [
    "# Summary\n",
    "- Python's array stores elements having uniform data type\n",
    "- The length (size) of Python's array can be changed\n",
    "- The memory address of Python's array element is sequential"
   ]
  }
 ],
 "metadata": {
  "kernelspec": {
   "display_name": ".venv",
   "language": "python",
   "name": "python3"
  },
  "language_info": {
   "codemirror_mode": {
    "name": "ipython",
    "version": 3
   },
   "file_extension": ".py",
   "mimetype": "text/x-python",
   "name": "python",
   "nbconvert_exporter": "python",
   "pygments_lexer": "ipython3",
   "version": "3.13.5"
  }
 },
 "nbformat": 4,
 "nbformat_minor": 2
}
