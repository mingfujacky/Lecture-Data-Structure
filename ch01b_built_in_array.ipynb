{
 "cells": [
  {
   "cell_type": "markdown",
   "metadata": {},
   "source": [
    "# What is a Array\n",
    "- Array is a data structure consisting of a collection of elements, of same memory size, each identified by an index. \n",
    "- Memory address of an element can be computed by \n",
    "  [array_start_address] + ([size] * [index])\n",
    "- Categories: Static Arrays, Sorted Arrays, Dynamic Arrays\n",
    "- Key characteristics\n",
    "  - It stores a collection of data\n",
    "  - Its elements can be accessed by index\n",
    "  - Elements don’t have to be accessed sequentially\n",
    "- Implementing arrays as a core language feature\n",
    "  - Arrays are allocated in memory as a single, uninterrupted block of memory with\n",
    "sequential locations.\n",
    "  - Arrays are restricted to storing data of the same type to quickly know the memory address of each element.\n",
    "  - [**Static Arrays**] The size of arrays (# of elements) must be decided when the array is created, and that size can’t be changed."
   ]
  },
  {
   "cell_type": "markdown",
   "metadata": {},
   "source": [
    "![bg right:40% w:500 array memory](../Lecture-Data-Structure/restricted/array_memory_address.png)"
   ]
  },
  {
   "cell_type": "markdown",
   "metadata": {},
   "source": [
    "# Python Array module\n",
    "- Array is a built-in module in Python provides an efficient way to create and manage arrays of uniform data types. \n",
    "- Array is more memory-efficient than Python lists when working with large amounts of numerical data with uniform types.\n",
    "- For advanced numerical computations, libraries like NumPy might be better suited."
   ]
  },
  {
   "cell_type": "code",
   "execution_count": 3,
   "metadata": {},
   "outputs": [
    {
     "name": "stdout",
     "output_type": "stream",
     "text": [
      "2\n",
      "array('i', [1, 50, 3])\n"
     ]
    }
   ],
   "source": [
    "# Creates an array with the specified typecode and an optional initializer.\n",
    "import array\n",
    "arr = array.array('i', [1, 2, 3])  # Create an integer array\n",
    "print(arr[1])\n",
    "arr[1] = 50\n",
    "print(arr)"
   ]
  },
  {
   "cell_type": "code",
   "execution_count": 8,
   "metadata": {},
   "outputs": [
    {
     "name": "stdout",
     "output_type": "stream",
     "text": [
      "array('i', [1, 2, 3, 4, 5, 6])\n"
     ]
    }
   ],
   "source": [
    "# Add elements\n",
    "arr = array.array('i', [1, 2])\n",
    "arr.append(3) # Append a single element\n",
    "arr.extend([4, 5, 6]) # Append several elements\n",
    "print(arr)"
   ]
  },
  {
   "cell_type": "code",
   "execution_count": 12,
   "metadata": {},
   "outputs": [
    {
     "name": "stdout",
     "output_type": "stream",
     "text": [
      "5\n",
      "4\n",
      "array('i', [1, 2, 3])\n",
      "array('i', [1, 3])\n"
     ]
    }
   ],
   "source": [
    "# Removing elements\n",
    "arr = array.array('i', [1, 2, 3, 4, 5])\n",
    "print(arr.pop())  # Remove the last element\n",
    "print(arr.pop(3)) # Remove by index\n",
    "print(arr)\n",
    "arr.remove(2) # Remove by value\n",
    "print(arr)"
   ]
  },
  {
   "cell_type": "code",
   "execution_count": null,
   "metadata": {},
   "outputs": [
    {
     "name": "stdout",
     "output_type": "stream",
     "text": [
      "1\n"
     ]
    }
   ],
   "source": [
    "# Searching\n",
    "arr = array.array('i', [10, 20, 30])\n",
    "print(arr.index(20)) # Find the index by an element's value"
   ]
  },
  {
   "cell_type": "code",
   "execution_count": null,
   "metadata": {},
   "outputs": [
    {
     "name": "stdout",
     "output_type": "stream",
     "text": [
      "array('i', [3, 2, 1])\n",
      "[3, 2, 1]\n"
     ]
    }
   ],
   "source": [
    "# Transformation\n",
    "arr = array.array('i', [1, 2, 3])\n",
    "arr.reverse()\n",
    "print(arr)  # Output: array('i', [3, 2, 1])\n",
    "\n",
    "lst = list(arr) # cast type from array to list\n",
    "print(lst)  # Output: [3, 2, 1]\n"
   ]
  },
  {
   "cell_type": "markdown",
   "metadata": {},
   "source": [
    "Summary\n",
    "- Python's array stores elements having uniform data type\n",
    "- The length (size) of Python's array can be changed\n",
    "- The memory address of Python's array element is sequential"
   ]
  },
  {
   "cell_type": "markdown",
   "metadata": {},
   "source": [
    "# typecode\n",
    "| **Typecode** | **C Type**          | **Python Type** | **Size (in bytes)** | **Description**                  |\n",
    "|--------------|---------------------|-----------------|---------------------|----------------------------------|\n",
    "| `'b'`        | signed char         | int             | 1                   | Signed integer (1 byte)          |\n",
    "| `'B'`        | unsigned char       | int             | 1                   | Unsigned integer (1 byte)        |\n",
    "| `'u'`        | Py_UNICODE          | Unicode         | 2 or 4 (platform-dependent) | Unicode character                |\n",
    "| `'h'`        | signed short        | int             | 2                   | Signed integer (2 bytes)         |\n",
    "| `'H'`        | unsigned short      | int             | 2                   | Unsigned integer (2 bytes)       |\n",
    "| `'i'`        | signed int          | int             | 2 or 4              | Signed integer (platform-dependent) |\n",
    "| `'I'`        | unsigned int        | int             | 2 or 4              | Unsigned integer (platform-dependent) |\n",
    "| `'l'`        | signed long         | int             | 4                   | Signed integer (4 bytes)         |\n",
    "| `'L'`        | unsigned long       | int             | 4                   | Unsigned integer (4 bytes)       |\n",
    "| `'q'`        | signed long long    | int             | 8                   | Signed integer (8 bytes)         |\n",
    "| `'Q'`        | unsigned long long  | int             | 8                   | Unsigned integer (8 bytes)       |\n",
    "| `'f'`        | float               | float           | 4                   | Floating point number (4 bytes)  |\n",
    "| `'d'`        | double              | float           | 8                   | Floating point number (8 bytes)  |"
   ]
  }
 ],
 "metadata": {
  "kernelspec": {
   "display_name": ".venv",
   "language": "python",
   "name": "python3"
  },
  "language_info": {
   "codemirror_mode": {
    "name": "ipython",
    "version": 3
   },
   "file_extension": ".py",
   "mimetype": "text/x-python",
   "name": "python",
   "nbconvert_exporter": "python",
   "pygments_lexer": "ipython3",
   "version": "3.13.2"
  }
 },
 "nbformat": 4,
 "nbformat_minor": 2
}
